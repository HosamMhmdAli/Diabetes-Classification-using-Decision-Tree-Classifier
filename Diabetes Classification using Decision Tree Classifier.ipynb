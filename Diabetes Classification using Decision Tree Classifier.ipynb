{
 "cells": [
  {
   "cell_type": "markdown",
   "metadata": {},
   "source": [
    "<h1 style = \"font-weight: bold; text-align: center; padding: 20px; margin: 20px 0px 0px 0px; background-color: darkblue; color: white; box-shadow: 2px 2px 5px 2px #ccc; border-radius: 2px;\">Decision Tree Classification</h1>\n",
    "\n",
    "## Intuition\n",
    "Implementing decision tree classifier on diabetes dataset. how to use our features from data to get the best accuracy. \\\n",
    "Let's first know information about **csv** file which called **diabetes.csv**\n",
    "\n",
    "#### diabetes.csv\n",
    "csv file is a plain text file that stores tabular data (numbers and text) in a plain, human-readable format.\\\n",
    "each line of the file represents a row of the table, and the values within a row are separated by commas or other delimiters (such as semicolons or tabs).\\\n",
    "csv file used for storing and exchaning data between different software applications, as they are simple and widely supported.\n",
    "\n",
    "Sample from diabetes.csv written such as the following view:\n",
    "|Pregnancies | Glucose | BloodPressure | SkinThickness | Insulin | BMI  | DiabetesPedigreeFunction | Age | Outcome |\n",
    "|-------------|---------|---------------|---------------|---------|------|--------------------------|-----|---------|\n",
    "| 6           | 148     | 72            | 35            | 0       | 33.6 | 0.627                    | 50  | 1       |\n",
    "| 1           | 85      | 66            | 29            | 0       | 26.6 | 0.351                    | 31  | 0       |\n",
    "| 8           | 183     | 64            | 0             | 0       | 23.3 | 0.672                    | 32  | 1       |\n",
    "\n",
    "<h1 style = \"color: #ff0077; font-weight: bold; padding-left: 20px;\"> What we will do </h1>\n",
    "<ol style=\"margin-left: 20px;\">\n",
    "    <li style=\"color: #333; font-size: 20px;\"><a href=\"#import-modules\" style=\"font-weight: bold; font-size: 20px;  color: #333;\">Import Modules</a></li>\n",
    "    <li style=\"color: #333; font-size: 20px;\"><a href=\"#get-data\" style=\"font-weight: bold; font-size: 20px; color: #333;\">Get data from file</a></li>\n",
    "    <li style=\"color: #333; font-size: 20px;\"><a href=\"#show-data\" style=\"font-weight: bold; font-size: 20px; color: #333;\">Show data</a></li>\n",
    "    <li style=\"color: #333; font-size: 20px;\"><a href=\"#create-features\" style=\"font-weight: bold; font-size: 20px; color: #333;\">Create Features and Target Variables</a></li>\n",
    "    <li style=\"color: #333; font-size: 20px;\"><a href=\"#split-data\" style=\"font-weight: bold; font-size: 20px;  color: #333;\">Split data into train and test</a></li>\n",
    "    <li style=\"color: #333; font-size: 20px;\"><a href=\"#predict-data\" style=\"font-weight: bold; font-size: 20px; color: #333;\">Fit x_train with y_train</a></li>\n",
    "    <li style=\"color: #333; font-size: 20px;\"><a href=\"#predict-data\" style=\"font-weight: bold; font-size: 20px;  color: #333;\">Prediction</a></li>\n",
    "    <li style=\"color: #333; font-size: 20px;\"><a href=\"#predict-data\" style=\"font-weight: bold; font-size: 20px; color: #333;\">Calculate Accuracy</a></li>\n",
    "\n",
    "### Steps\n",
    "`1. Importing Modules`\n",
    "```python\n",
    "    # Importing pandas module \n",
    "    import pandas as pd \n",
    "\n",
    "    # Getting Module [DecisionTreeClassifier] from sklearn.tree \n",
    "    from sklearn.tree import DecisionTreeClassifier\n",
    "\n",
    "    # Getting train_test_split used for training data, testing and splitting\n",
    "    from sklearn.model_selection import train_test_split\n",
    "\n",
    "    # metrics used for accuracy and showing results\n",
    "    from sklearn import metrics\n",
    "```\n",
    "\\\n",
    "`2. Getting Data From File`\n",
    "```python\n",
    "    # Get data from diabetes file [format = 'csv']\n",
    "    data = pd.read_csv(\"diabetes.csv\")\n",
    "```\n",
    "\\\n",
    "`3. Showing Data [row x columns]`\n",
    "```python\n",
    "    # first five rows in data with its columns\n",
    "    data.head()\n",
    "```\n",
    "\\\n",
    "`4. Create Features and Target Variables`\n",
    "```python\n",
    "    # Features\n",
    "    # Drop the target column \n",
    "    x_data = data.drop(\"Outcome\", axis = 1)\n",
    "\n",
    "    # Target Variable & get the target column\n",
    "    y_data = data[\"Outcome\"]  \n",
    "```\n",
    "\\\n",
    "`5. Splitting our data into train and test`\n",
    "```python\n",
    "    # 80% training and 20% test\n",
    "    x_train, x_test, y_train, y_test = train_test_split(x_data, y_data, test_size = 0.2, random_state = 0)   \n",
    "```\n",
    "\\\n",
    "`6. Fitting x_train with y_train`\n",
    "```python\n",
    "\n",
    "    # Create Object From DecisionTreeClassifier \n",
    "    classifier = DecisionTreeClassifier(max_depth = 3)\n",
    "\n",
    "    # Train Decision Tree Classifier\n",
    "    classifier = classifier.fit(x_train, y_train)\n",
    "```\n",
    "\\\n",
    "`7. Predicting y_pred after fitting data with x_test`\n",
    "```python\n",
    "\n",
    "    # prediction [y_pred]\n",
    "    y_pred = classifier.predict(x_test)\n",
    "```\n",
    "\\\n",
    "`8. Calculating Accuracy`\n",
    "```python\n",
    "\n",
    "    # Model Accuracy, how often is the classifier correct?\n",
    "    print(\"Accuracy: \", metrics.accuracy_score(y_test, y_pred))\n",
    "```"
   ]
  },
  {
   "cell_type": "markdown",
   "metadata": {},
   "source": [
    "<h1 style = \"font-size: 40px; font-weight: bold; color: white; background-color: gray; padding: 20px; margin: 0;\">Our Implementation</h1>"
   ]
  },
  {
   "cell_type": "markdown",
   "metadata": {},
   "source": [
    "<div id=\"import-modules\">\n",
    "    <h2 style=\"font-weight: bold; color: gray;\">1. Importing Modules</h2>\n",
    "</div>"
   ]
  },
  {
   "cell_type": "code",
   "execution_count": 26,
   "metadata": {
    "id": "hTrsuhCdlh29"
   },
   "outputs": [],
   "source": [
    "# Load libraries\n",
    "import pandas as pd\n",
    "\n",
    "# Import Decision Tree Classifier\n",
    "from sklearn.tree import DecisionTreeClassifier \n",
    "\n",
    "# Import train_test_split function\n",
    "from sklearn.model_selection import train_test_split \n",
    "\n",
    "# Import scikit-learn metrics module for accuracy calculation\n",
    "from sklearn import metrics \n",
    "from sklearn.feature_selection import SelectKBest, chi2\n",
    "from sklearn import tree\n",
    "import matplotlib.pyplot as plt\n",
    "from sklearn import metrics"
   ]
  },
  {
   "cell_type": "markdown",
   "metadata": {},
   "source": [
    "<div id=\"get-data\">\n",
    "    <h2 style=\"font-weight: bold; color: gray;\">2. Getting Data From File</h2>\n",
    "</div>"
   ]
  },
  {
   "cell_type": "code",
   "execution_count": 3,
   "metadata": {
    "id": "WcWYv18-lkYo"
   },
   "outputs": [],
   "source": [
    "# Get data from diabetes file [format = 'csv']\n",
    "data = pd.read_csv('diabetes_risk_prediction_dataset.csv')"
   ]
  },
  {
   "cell_type": "markdown",
   "metadata": {},
   "source": [
    "<div id=\"show-data\">\n",
    "    <h2 style=\"font-weight: bold; color: gray;\">3. Showing Data [row x columns]</h2>\n",
    "</div>"
   ]
  },
  {
   "cell_type": "code",
   "execution_count": 4,
   "metadata": {
    "colab": {
     "base_uri": "https://localhost:8080/"
    },
    "id": "TtJ1M8l2mtzW",
    "outputId": "4af63240-9a3d-4577-cb6d-7e2eb817ffe6",
    "scrolled": true
   },
   "outputs": [
    {
     "data": {
      "text/html": [
       "<div>\n",
       "<style scoped>\n",
       "    .dataframe tbody tr th:only-of-type {\n",
       "        vertical-align: middle;\n",
       "    }\n",
       "\n",
       "    .dataframe tbody tr th {\n",
       "        vertical-align: top;\n",
       "    }\n",
       "\n",
       "    .dataframe thead th {\n",
       "        text-align: right;\n",
       "    }\n",
       "</style>\n",
       "<table border=\"1\" class=\"dataframe\">\n",
       "  <thead>\n",
       "    <tr style=\"text-align: right;\">\n",
       "      <th></th>\n",
       "      <th>Age</th>\n",
       "      <th>Gender</th>\n",
       "      <th>Polyuria</th>\n",
       "      <th>Polydipsia</th>\n",
       "      <th>sudden weight loss</th>\n",
       "      <th>weakness</th>\n",
       "      <th>Polyphagia</th>\n",
       "      <th>Genital thrush</th>\n",
       "      <th>visual blurring</th>\n",
       "      <th>Itching</th>\n",
       "      <th>Irritability</th>\n",
       "      <th>delayed healing</th>\n",
       "      <th>partial paresis</th>\n",
       "      <th>muscle stiffness</th>\n",
       "      <th>Alopecia</th>\n",
       "      <th>Obesity</th>\n",
       "      <th>class</th>\n",
       "    </tr>\n",
       "  </thead>\n",
       "  <tbody>\n",
       "    <tr>\n",
       "      <th>0</th>\n",
       "      <td>40</td>\n",
       "      <td>Male</td>\n",
       "      <td>No</td>\n",
       "      <td>Yes</td>\n",
       "      <td>No</td>\n",
       "      <td>Yes</td>\n",
       "      <td>No</td>\n",
       "      <td>No</td>\n",
       "      <td>No</td>\n",
       "      <td>Yes</td>\n",
       "      <td>No</td>\n",
       "      <td>Yes</td>\n",
       "      <td>No</td>\n",
       "      <td>Yes</td>\n",
       "      <td>Yes</td>\n",
       "      <td>Yes</td>\n",
       "      <td>Positive</td>\n",
       "    </tr>\n",
       "    <tr>\n",
       "      <th>1</th>\n",
       "      <td>58</td>\n",
       "      <td>Male</td>\n",
       "      <td>No</td>\n",
       "      <td>No</td>\n",
       "      <td>No</td>\n",
       "      <td>Yes</td>\n",
       "      <td>No</td>\n",
       "      <td>No</td>\n",
       "      <td>Yes</td>\n",
       "      <td>No</td>\n",
       "      <td>No</td>\n",
       "      <td>No</td>\n",
       "      <td>Yes</td>\n",
       "      <td>No</td>\n",
       "      <td>Yes</td>\n",
       "      <td>No</td>\n",
       "      <td>Positive</td>\n",
       "    </tr>\n",
       "    <tr>\n",
       "      <th>2</th>\n",
       "      <td>41</td>\n",
       "      <td>Male</td>\n",
       "      <td>Yes</td>\n",
       "      <td>No</td>\n",
       "      <td>No</td>\n",
       "      <td>Yes</td>\n",
       "      <td>Yes</td>\n",
       "      <td>No</td>\n",
       "      <td>No</td>\n",
       "      <td>Yes</td>\n",
       "      <td>No</td>\n",
       "      <td>Yes</td>\n",
       "      <td>No</td>\n",
       "      <td>Yes</td>\n",
       "      <td>Yes</td>\n",
       "      <td>No</td>\n",
       "      <td>Positive</td>\n",
       "    </tr>\n",
       "    <tr>\n",
       "      <th>3</th>\n",
       "      <td>45</td>\n",
       "      <td>Male</td>\n",
       "      <td>No</td>\n",
       "      <td>No</td>\n",
       "      <td>Yes</td>\n",
       "      <td>Yes</td>\n",
       "      <td>Yes</td>\n",
       "      <td>Yes</td>\n",
       "      <td>No</td>\n",
       "      <td>Yes</td>\n",
       "      <td>No</td>\n",
       "      <td>Yes</td>\n",
       "      <td>No</td>\n",
       "      <td>No</td>\n",
       "      <td>No</td>\n",
       "      <td>No</td>\n",
       "      <td>Positive</td>\n",
       "    </tr>\n",
       "    <tr>\n",
       "      <th>4</th>\n",
       "      <td>60</td>\n",
       "      <td>Male</td>\n",
       "      <td>Yes</td>\n",
       "      <td>Yes</td>\n",
       "      <td>Yes</td>\n",
       "      <td>Yes</td>\n",
       "      <td>Yes</td>\n",
       "      <td>No</td>\n",
       "      <td>Yes</td>\n",
       "      <td>Yes</td>\n",
       "      <td>Yes</td>\n",
       "      <td>Yes</td>\n",
       "      <td>Yes</td>\n",
       "      <td>Yes</td>\n",
       "      <td>Yes</td>\n",
       "      <td>Yes</td>\n",
       "      <td>Positive</td>\n",
       "    </tr>\n",
       "  </tbody>\n",
       "</table>\n",
       "</div>"
      ],
      "text/plain": [
       "   Age Gender Polyuria Polydipsia sudden weight loss weakness Polyphagia  \\\n",
       "0   40   Male       No        Yes                 No      Yes         No   \n",
       "1   58   Male       No         No                 No      Yes         No   \n",
       "2   41   Male      Yes         No                 No      Yes        Yes   \n",
       "3   45   Male       No         No                Yes      Yes        Yes   \n",
       "4   60   Male      Yes        Yes                Yes      Yes        Yes   \n",
       "\n",
       "  Genital thrush visual blurring Itching Irritability delayed healing  \\\n",
       "0             No              No     Yes           No             Yes   \n",
       "1             No             Yes      No           No              No   \n",
       "2             No              No     Yes           No             Yes   \n",
       "3            Yes              No     Yes           No             Yes   \n",
       "4             No             Yes     Yes          Yes             Yes   \n",
       "\n",
       "  partial paresis muscle stiffness Alopecia Obesity     class  \n",
       "0              No              Yes      Yes     Yes  Positive  \n",
       "1             Yes               No      Yes      No  Positive  \n",
       "2              No              Yes      Yes      No  Positive  \n",
       "3              No               No       No      No  Positive  \n",
       "4             Yes              Yes      Yes     Yes  Positive  "
      ]
     },
     "execution_count": 4,
     "metadata": {},
     "output_type": "execute_result"
    }
   ],
   "source": [
    "# First five rows in data with its columns\n",
    "data.head()"
   ]
  },
  {
   "cell_type": "code",
   "execution_count": 6,
   "metadata": {},
   "outputs": [
    {
     "name": "stdout",
     "output_type": "stream",
     "text": [
      "<class 'pandas.core.frame.DataFrame'>\n",
      "RangeIndex: 520 entries, 0 to 519\n",
      "Data columns (total 17 columns):\n",
      " #   Column              Non-Null Count  Dtype \n",
      "---  ------              --------------  ----- \n",
      " 0   Age                 520 non-null    int64 \n",
      " 1   Gender              520 non-null    object\n",
      " 2   Polyuria            520 non-null    object\n",
      " 3   Polydipsia          520 non-null    object\n",
      " 4   sudden weight loss  520 non-null    object\n",
      " 5   weakness            520 non-null    object\n",
      " 6   Polyphagia          520 non-null    object\n",
      " 7   Genital thrush      520 non-null    object\n",
      " 8   visual blurring     520 non-null    object\n",
      " 9   Itching             520 non-null    object\n",
      " 10  Irritability        520 non-null    object\n",
      " 11  delayed healing     520 non-null    object\n",
      " 12  partial paresis     520 non-null    object\n",
      " 13  muscle stiffness    520 non-null    object\n",
      " 14  Alopecia            520 non-null    object\n",
      " 15  Obesity             520 non-null    object\n",
      " 16  class               520 non-null    object\n",
      "dtypes: int64(1), object(16)\n",
      "memory usage: 69.2+ KB\n"
     ]
    }
   ],
   "source": [
    "data.info()"
   ]
  },
  {
   "cell_type": "code",
   "execution_count": 8,
   "metadata": {},
   "outputs": [
    {
     "data": {
      "text/plain": [
       "Age                   0\n",
       "Gender                0\n",
       "Polyuria              0\n",
       "Polydipsia            0\n",
       "sudden weight loss    0\n",
       "weakness              0\n",
       "Polyphagia            0\n",
       "Genital thrush        0\n",
       "visual blurring       0\n",
       "Itching               0\n",
       "Irritability          0\n",
       "delayed healing       0\n",
       "partial paresis       0\n",
       "muscle stiffness      0\n",
       "Alopecia              0\n",
       "Obesity               0\n",
       "class                 0\n",
       "dtype: int64"
      ]
     },
     "execution_count": 8,
     "metadata": {},
     "output_type": "execute_result"
    }
   ],
   "source": [
    "data.isna().sum()"
   ]
  },
  {
   "cell_type": "markdown",
   "metadata": {},
   "source": [
    "# EDA Questions"
   ]
  },
  {
   "cell_type": "markdown",
   "metadata": {},
   "source": [
    "1-What is the average age of the individuals in the dataset?\n"
   ]
  },
  {
   "cell_type": "markdown",
   "metadata": {},
   "source": [
    "2-How many males and females are present in the dataset?\n"
   ]
  },
  {
   "cell_type": "markdown",
   "metadata": {},
   "source": [
    "3-What percentage of individuals in the dataset have Polyuria?\n"
   ]
  },
  {
   "cell_type": "markdown",
   "metadata": {},
   "source": [
    "4-What is the most common symptom among the patients: Polydipsia or sudden weight loss?\n"
   ]
  },
  {
   "cell_type": "markdown",
   "metadata": {},
   "source": [
    "5-Is there a correlation between age and the presence of Alopecia?\n"
   ]
  },
  {
   "cell_type": "markdown",
   "metadata": {},
   "source": [
    "6-How many individuals in the dataset have both Polyuria and Polydipsia?\n"
   ]
  },
  {
   "cell_type": "markdown",
   "metadata": {},
   "source": [
    "7-Create a count plot of the 'class' variable to visualize the distribution of positive and negative "
   ]
  },
  {
   "cell_type": "markdown",
   "metadata": {},
   "source": [
    "8-Build a classification model to predict the 'class' variable (diabetes). \n"
   ]
  },
  {
   "cell_type": "code",
   "execution_count": 10,
   "metadata": {},
   "outputs": [
    {
     "data": {
      "text/plain": [
       "48.02884615384615"
      ]
     },
     "execution_count": 10,
     "metadata": {},
     "output_type": "execute_result"
    }
   ],
   "source": [
    "data['Age'].mean()"
   ]
  },
  {
   "cell_type": "code",
   "execution_count": 11,
   "metadata": {},
   "outputs": [
    {
     "data": {
      "image/png": "[encoded data removed]",
      "text/plain": [
       "<Figure size 432x288 with 1 Axes>"
      ]
     },
     "metadata": {
      "needs_background": "light"
     },
     "output_type": "display_data"
    }
   ],
   "source": [
    "import seaborn as sns\n",
    "\n",
    "plot = sns.countplot(data = data, x='Gender')\n"
   ]
  },
  {
   "cell_type": "code",
   "execution_count": 13,
   "metadata": {},
   "outputs": [
    {
     "data": {
      "text/plain": [
       "Text(0.5, 1.0, 'Sudden weight loss')"
      ]
     },
     "execution_count": 13,
     "metadata": {},
     "output_type": "execute_result"
    },
    {
     "data": {
      "image/png": "[encoded data removed]",
      "text/plain": [
       "<Figure size 1440x504 with 2 Axes>"
      ]
     },
     "metadata": {
      "needs_background": "light"
     },
     "output_type": "display_data"
    }
   ],
   "source": [
    "import matplotlib.pyplot as plt \n",
    "\n",
    "df_positive = data[data['class']=='Positive'].copy()\n",
    "plot, axes = plt.subplots(nrows=1, ncols=2, figsize=(20, 7))\n",
    "\n",
    "plt1 = sns.countplot(data=data, x='Polydipsia', ax=axes[0])\n",
    "axes[0].set_title('Polydispia')\n",
    "\n",
    "plt2 = sns.countplot(data=data, x='sudden weight loss', ax=axes[1])\n",
    "axes[1].set_title('Sudden weight loss')\n",
    "\n"
   ]
  },
  {
   "cell_type": "code",
   "execution_count": 15,
   "metadata": {},
   "outputs": [
    {
     "data": {
      "text/plain": [
       "193"
      ]
     },
     "execution_count": 15,
     "metadata": {},
     "output_type": "execute_result"
    }
   ],
   "source": [
    "# 6. How many individuals in the dataset have both Polyuria and Polydipsia?\n",
    "data[(data['Polyuria']=='Yes') & (data['Polydipsia']=='Yes')].shape[0]"
   ]
  },
  {
   "cell_type": "code",
   "execution_count": 16,
   "metadata": {},
   "outputs": [
    {
     "data": {
      "image/png": "[encoded data removed]",
      "text/plain": [
       "<Figure size 432x288 with 1 Axes>"
      ]
     },
     "metadata": {
      "needs_background": "light"
     },
     "output_type": "display_data"
    }
   ],
   "source": [
    "plot =sns.countplot(data=data, x='class')"
   ]
  },
  {
   "cell_type": "code",
   "execution_count": 17,
   "metadata": {},
   "outputs": [
    {
     "data": {
      "image/png": "[encoded data removed]",
      "text/plain": [
       "<Figure size 432x288 with 1 Axes>"
      ]
     },
     "metadata": {
      "needs_background": "light"
     },
     "output_type": "display_data"
    }
   ],
   "source": [
    "# 8. What is the distribution of the 'visual blurring' variable among individuals with diabetes?\n",
    "plot = sns.countplot(data=df_positive, x='visual blurring')\n"
   ]
  },
  {
   "cell_type": "code",
   "execution_count": 19,
   "metadata": {},
   "outputs": [],
   "source": [
    "features_name=data.columns"
   ]
  },
  {
   "cell_type": "code",
   "execution_count": 20,
   "metadata": {},
   "outputs": [],
   "source": [
    "# 9.a encoding \n",
    "\n",
    "encoder = lambda x: 1 if x.lower() in ('positive', 'yes') else 0\n",
    "for feature in data.columns: \n",
    "    if data[feature].dtype == 'object':\n",
    "        data[feature] = data[feature].apply(encoder)"
   ]
  },
  {
   "cell_type": "code",
   "execution_count": 21,
   "metadata": {
    "scrolled": true
   },
   "outputs": [
    {
     "data": {
      "text/html": [
       "<div>\n",
       "<style scoped>\n",
       "    .dataframe tbody tr th:only-of-type {\n",
       "        vertical-align: middle;\n",
       "    }\n",
       "\n",
       "    .dataframe tbody tr th {\n",
       "        vertical-align: top;\n",
       "    }\n",
       "\n",
       "    .dataframe thead th {\n",
       "        text-align: right;\n",
       "    }\n",
       "</style>\n",
       "<table border=\"1\" class=\"dataframe\">\n",
       "  <thead>\n",
       "    <tr style=\"text-align: right;\">\n",
       "      <th></th>\n",
       "      <th>Age</th>\n",
       "      <th>Gender</th>\n",
       "      <th>Polyuria</th>\n",
       "      <th>Polydipsia</th>\n",
       "      <th>sudden weight loss</th>\n",
       "      <th>weakness</th>\n",
       "      <th>Polyphagia</th>\n",
       "      <th>Genital thrush</th>\n",
       "      <th>visual blurring</th>\n",
       "      <th>Itching</th>\n",
       "      <th>Irritability</th>\n",
       "      <th>delayed healing</th>\n",
       "      <th>partial paresis</th>\n",
       "      <th>muscle stiffness</th>\n",
       "      <th>Alopecia</th>\n",
       "      <th>Obesity</th>\n",
       "      <th>class</th>\n",
       "    </tr>\n",
       "  </thead>\n",
       "  <tbody>\n",
       "    <tr>\n",
       "      <th>0</th>\n",
       "      <td>40</td>\n",
       "      <td>0</td>\n",
       "      <td>0</td>\n",
       "      <td>1</td>\n",
       "      <td>0</td>\n",
       "      <td>1</td>\n",
       "      <td>0</td>\n",
       "      <td>0</td>\n",
       "      <td>0</td>\n",
       "      <td>1</td>\n",
       "      <td>0</td>\n",
       "      <td>1</td>\n",
       "      <td>0</td>\n",
       "      <td>1</td>\n",
       "      <td>1</td>\n",
       "      <td>1</td>\n",
       "      <td>1</td>\n",
       "    </tr>\n",
       "    <tr>\n",
       "      <th>1</th>\n",
       "      <td>58</td>\n",
       "      <td>0</td>\n",
       "      <td>0</td>\n",
       "      <td>0</td>\n",
       "      <td>0</td>\n",
       "      <td>1</td>\n",
       "      <td>0</td>\n",
       "      <td>0</td>\n",
       "      <td>1</td>\n",
       "      <td>0</td>\n",
       "      <td>0</td>\n",
       "      <td>0</td>\n",
       "      <td>1</td>\n",
       "      <td>0</td>\n",
       "      <td>1</td>\n",
       "      <td>0</td>\n",
       "      <td>1</td>\n",
       "    </tr>\n",
       "    <tr>\n",
       "      <th>2</th>\n",
       "      <td>41</td>\n",
       "      <td>0</td>\n",
       "      <td>1</td>\n",
       "      <td>0</td>\n",
       "      <td>0</td>\n",
       "      <td>1</td>\n",
       "      <td>1</td>\n",
       "      <td>0</td>\n",
       "      <td>0</td>\n",
       "      <td>1</td>\n",
       "      <td>0</td>\n",
       "      <td>1</td>\n",
       "      <td>0</td>\n",
       "      <td>1</td>\n",
       "      <td>1</td>\n",
       "      <td>0</td>\n",
       "      <td>1</td>\n",
       "    </tr>\n",
       "    <tr>\n",
       "      <th>3</th>\n",
       "      <td>45</td>\n",
       "      <td>0</td>\n",
       "      <td>0</td>\n",
       "      <td>0</td>\n",
       "      <td>1</td>\n",
       "      <td>1</td>\n",
       "      <td>1</td>\n",
       "      <td>1</td>\n",
       "      <td>0</td>\n",
       "      <td>1</td>\n",
       "      <td>0</td>\n",
       "      <td>1</td>\n",
       "      <td>0</td>\n",
       "      <td>0</td>\n",
       "      <td>0</td>\n",
       "      <td>0</td>\n",
       "      <td>1</td>\n",
       "    </tr>\n",
       "    <tr>\n",
       "      <th>4</th>\n",
       "      <td>60</td>\n",
       "      <td>0</td>\n",
       "      <td>1</td>\n",
       "      <td>1</td>\n",
       "      <td>1</td>\n",
       "      <td>1</td>\n",
       "      <td>1</td>\n",
       "      <td>0</td>\n",
       "      <td>1</td>\n",
       "      <td>1</td>\n",
       "      <td>1</td>\n",
       "      <td>1</td>\n",
       "      <td>1</td>\n",
       "      <td>1</td>\n",
       "      <td>1</td>\n",
       "      <td>1</td>\n",
       "      <td>1</td>\n",
       "    </tr>\n",
       "  </tbody>\n",
       "</table>\n",
       "</div>"
      ],
      "text/plain": [
       "   Age  Gender  Polyuria  Polydipsia  sudden weight loss  weakness  \\\n",
       "0   40       0         0           1                   0         1   \n",
       "1   58       0         0           0                   0         1   \n",
       "2   41       0         1           0                   0         1   \n",
       "3   45       0         0           0                   1         1   \n",
       "4   60       0         1           1                   1         1   \n",
       "\n",
       "   Polyphagia  Genital thrush  visual blurring  Itching  Irritability  \\\n",
       "0           0               0                0        1             0   \n",
       "1           0               0                1        0             0   \n",
       "2           1               0                0        1             0   \n",
       "3           1               1                0        1             0   \n",
       "4           1               0                1        1             1   \n",
       "\n",
       "   delayed healing  partial paresis  muscle stiffness  Alopecia  Obesity  \\\n",
       "0                1                0                 1         1        1   \n",
       "1                0                1                 0         1        0   \n",
       "2                1                0                 1         1        0   \n",
       "3                1                0                 0         0        0   \n",
       "4                1                1                 1         1        1   \n",
       "\n",
       "   class  \n",
       "0      1  \n",
       "1      1  \n",
       "2      1  \n",
       "3      1  \n",
       "4      1  "
      ]
     },
     "execution_count": 21,
     "metadata": {},
     "output_type": "execute_result"
    }
   ],
   "source": [
    "data.head()"
   ]
  },
  {
   "cell_type": "code",
   "execution_count": 24,
   "metadata": {},
   "outputs": [],
   "source": [
    "X=data.drop('class', axis=1)\n",
    "y=data['class']"
   ]
  },
  {
   "cell_type": "code",
   "execution_count": 28,
   "metadata": {},
   "outputs": [],
   "source": [
    "selector = SelectKBest(chi2, k=8)  # Select top 8 features\n",
    "X_new = selector.fit_transform(X, y)"
   ]
  },
  {
   "cell_type": "code",
   "execution_count": 29,
   "metadata": {},
   "outputs": [
    {
     "data": {
      "text/plain": [
       "['Age',\n",
       " 'Polyuria',\n",
       " 'Polydipsia',\n",
       " 'sudden weight loss',\n",
       " 'Polyphagia',\n",
       " 'Irritability',\n",
       " 'partial paresis',\n",
       " 'Alopecia']"
      ]
     },
     "execution_count": 29,
     "metadata": {},
     "output_type": "execute_result"
    }
   ],
   "source": [
    "selected_feature_indices = selector.get_support(indices=True)\n",
    "selected_feature_names = [features_name[i] for i in selected_feature_indices]\n",
    "selected_feature_names"
   ]
  },
  {
   "cell_type": "markdown",
   "metadata": {},
   "source": [
    "<div id=\"split-data\">\n",
    "    <h2 style=\"font-weight: bold; color: gray;\">5. Splitting our data into train and test</h2>\n",
    "</div>"
   ]
  },
  {
   "cell_type": "code",
   "execution_count": 31,
   "metadata": {
    "id": "9z8_GSdJnkOi"
   },
   "outputs": [],
   "source": [
    "# Split the data into training and testing sets\n",
    "# 80% training and 20% test\n",
    "from sklearn.model_selection import train_test_split\n",
    "X_train, X_test, y_train, y_test = train_test_split(X_new, data['class'], test_size = .2)   "
   ]
  },
  {
   "cell_type": "markdown",
   "metadata": {},
   "source": [
    "<div id=\"predict-data\">\n",
    "    <h2 style=\"font-weight: bold; color: gray;\">6. Fitting x_train with y_train &  Predicting y_pred after fitting data with x_test</h2>\n",
    "</div>"
   ]
  },
  {
   "cell_type": "code",
   "execution_count": 32,
   "metadata": {
    "id": "K0cd7u_fnlUq"
   },
   "outputs": [
    {
     "name": "stdout",
     "output_type": "stream",
     "text": [
      "Accuracy score with DecisionTreeClassifier is: 0.9615384615384616\n"
     ]
    }
   ],
   "source": [
    "from sklearn.pipeline import Pipeline\n",
    "from sklearn.preprocessing import MinMaxScaler\n",
    "from sklearn.tree import DecisionTreeClassifier\n",
    "from sklearn.metrics import accuracy_score, f1_score\n",
    "from sklearn.metrics import f1_score\n",
    "\n",
    "classifier =DecisionTreeClassifier\n",
    "pipes = {}\n",
    "max_score = 0\n",
    "best_classifier = \"\" \n",
    "current_classifier = classifier.__name__\n",
    "pipe = Pipeline([\n",
    "        (\"scaler\", MinMaxScaler() ),\n",
    "        (\"classifier\", classifier()) \n",
    "])\n",
    "pipe.fit(X_train, y_train)\n",
    "y_pred = pipe.predict(X_test)\n",
    "pipes[current_classifier] = pipe\n",
    "score = accuracy_score(y_test, y_pred)\n",
    "        \n",
    "print(f\"Accuracy score with {current_classifier} is: {score}\")\n"
   ]
  },
  {
   "cell_type": "markdown",
   "metadata": {},
   "source": [
    "<div id=\"calculate-accuracy\">\n",
    "    <h2 style=\"font-weight: bold; color: gray;\">7. Calculating Accuracy</h2>\n",
    "</div>"
   ]
  },
  {
   "cell_type": "code",
   "execution_count": 33,
   "metadata": {
    "colab": {
     "base_uri": "https://localhost:8080/"
    },
    "id": "g62p_trOqLqd",
    "outputId": "9f101251-9dc6-418c-e471-dd509cf9af91"
   },
   "outputs": [
    {
     "name": "stdout",
     "output_type": "stream",
     "text": [
      "Accuracy:  0.9615384615384616\n"
     ]
    }
   ],
   "source": [
    "# Model Accuracy, how often is the classifier correct?\n",
    "print(\"Accuracy: \", metrics.accuracy_score(y_test, y_pred))"
   ]
  },
  {
   "cell_type": "code",
   "execution_count": 34,
   "metadata": {},
   "outputs": [
    {
     "name": "stdout",
     "output_type": "stream",
     "text": [
      "[[34  4]\n",
      " [ 0 66]]\n"
     ]
    }
   ],
   "source": [
    "print(metrics.confusion_matrix(y_test, y_pred))"
   ]
  },
  {
   "cell_type": "markdown",
   "metadata": {},
   "source": [
    "## Here's Additional Diagram that makes us understand how Decision Tree Works "
   ]
  },
  {
   "cell_type": "code",
   "execution_count": 35,
   "metadata": {
    "id": "l-aBsfQjrB4l"
   },
   "outputs": [
    {
     "data": {
      "image/png": "[encoded data removed]",
      "text/plain": [
       "<Figure size 1440x1440 with 1 Axes>"
      ]
     },
     "metadata": {
      "needs_background": "light"
     },
     "output_type": "display_data"
    }
   ],
   "source": [
    "dt_estimator = pipe.named_steps[\"classifier\"]\n",
    "fig, ax = plt.subplots(figsize=(20, 20))\n",
    "tree.plot_tree(dt_estimator)\n",
    "plt.show()"
   ]
  },
  {
   "cell_type": "code",
   "execution_count": 45,
   "metadata": {},
   "outputs": [],
   "source": [
    "import os\n",
    "os.environ[\"PATH\"] += os.pathsep + 'E:\\anconda\\Lib\\site-packages\\graphviz'"
   ]
  },
  {
   "cell_type": "code",
   "execution_count": 47,
   "metadata": {
    "colab": {
     "base_uri": "https://localhost:8080/"
    },
    "id": "aVMiFMAQqOgu",
    "outputId": "f83727b5-51b7-4cba-96a9-b096c24d8d43"
   },
   "outputs": [
    {
     "ename": "InvocationException",
     "evalue": "GraphViz's executables not found",
     "output_type": "error",
     "traceback": [
      "\u001b[1;31m---------------------------------------------------------------------------\u001b[0m",
      "\u001b[1;31mInvocationException\u001b[0m                       Traceback (most recent call last)",
      "\u001b[1;32m<ipython-input-47-0f6588d89036>\u001b[0m in \u001b[0;36m<module>\u001b[1;34m\u001b[0m\n\u001b[0;32m     33\u001b[0m \u001b[1;33m\u001b[0m\u001b[0m\n\u001b[0;32m     34\u001b[0m \u001b[1;31m# write our graph to a PNG image\u001b[0m\u001b[1;33m\u001b[0m\u001b[1;33m\u001b[0m\u001b[1;33m\u001b[0m\u001b[0m\n\u001b[1;32m---> 35\u001b[1;33m \u001b[0mgraph\u001b[0m\u001b[1;33m.\u001b[0m\u001b[0mwrite_png\u001b[0m\u001b[1;33m(\u001b[0m\u001b[1;34m'diabetes.png'\u001b[0m\u001b[1;33m)\u001b[0m\u001b[1;33m\u001b[0m\u001b[1;33m\u001b[0m\u001b[0m\n\u001b[0m\u001b[0;32m     36\u001b[0m \u001b[1;33m\u001b[0m\u001b[0m\n\u001b[0;32m     37\u001b[0m \u001b[1;31m# Show our image | display it\u001b[0m\u001b[1;33m\u001b[0m\u001b[1;33m\u001b[0m\u001b[1;33m\u001b[0m\u001b[0m\n",
      "\u001b[1;32mE:\\anconda\\lib\\site-packages\\pydotplus\\graphviz.py\u001b[0m in \u001b[0;36m<lambda>\u001b[1;34m(path, f, prog)\u001b[0m\n\u001b[0;32m   1808\u001b[0m                 \u001b[1;32mlambda\u001b[0m \u001b[0mpath\u001b[0m\u001b[1;33m,\u001b[0m\u001b[1;33m\u001b[0m\u001b[1;33m\u001b[0m\u001b[0m\n\u001b[0;32m   1809\u001b[0m                 \u001b[0mf\u001b[0m\u001b[1;33m=\u001b[0m\u001b[0mfrmt\u001b[0m\u001b[1;33m,\u001b[0m\u001b[1;33m\u001b[0m\u001b[1;33m\u001b[0m\u001b[0m\n\u001b[1;32m-> 1810\u001b[1;33m                 \u001b[0mprog\u001b[0m\u001b[1;33m=\u001b[0m\u001b[0mself\u001b[0m\u001b[1;33m.\u001b[0m\u001b[0mprog\u001b[0m\u001b[1;33m:\u001b[0m \u001b[0mself\u001b[0m\u001b[1;33m.\u001b[0m\u001b[0mwrite\u001b[0m\u001b[1;33m(\u001b[0m\u001b[0mpath\u001b[0m\u001b[1;33m,\u001b[0m \u001b[0mformat\u001b[0m\u001b[1;33m=\u001b[0m\u001b[0mf\u001b[0m\u001b[1;33m,\u001b[0m \u001b[0mprog\u001b[0m\u001b[1;33m=\u001b[0m\u001b[0mprog\u001b[0m\u001b[1;33m)\u001b[0m\u001b[1;33m\u001b[0m\u001b[1;33m\u001b[0m\u001b[0m\n\u001b[0m\u001b[0;32m   1811\u001b[0m             )\n\u001b[0;32m   1812\u001b[0m \u001b[1;33m\u001b[0m\u001b[0m\n",
      "\u001b[1;32mE:\\anconda\\lib\\site-packages\\pydotplus\\graphviz.py\u001b[0m in \u001b[0;36mwrite\u001b[1;34m(self, path, prog, format)\u001b[0m\n\u001b[0;32m   1916\u001b[0m \u001b[1;33m\u001b[0m\u001b[0m\n\u001b[0;32m   1917\u001b[0m             \u001b[1;32melse\u001b[0m\u001b[1;33m:\u001b[0m\u001b[1;33m\u001b[0m\u001b[1;33m\u001b[0m\u001b[0m\n\u001b[1;32m-> 1918\u001b[1;33m                 \u001b[0mfobj\u001b[0m\u001b[1;33m.\u001b[0m\u001b[0mwrite\u001b[0m\u001b[1;33m(\u001b[0m\u001b[0mself\u001b[0m\u001b[1;33m.\u001b[0m\u001b[0mcreate\u001b[0m\u001b[1;33m(\u001b[0m\u001b[0mprog\u001b[0m\u001b[1;33m,\u001b[0m \u001b[0mformat\u001b[0m\u001b[1;33m)\u001b[0m\u001b[1;33m)\u001b[0m\u001b[1;33m\u001b[0m\u001b[1;33m\u001b[0m\u001b[0m\n\u001b[0m\u001b[0;32m   1919\u001b[0m         \u001b[1;32mfinally\u001b[0m\u001b[1;33m:\u001b[0m\u001b[1;33m\u001b[0m\u001b[1;33m\u001b[0m\u001b[0m\n\u001b[0;32m   1920\u001b[0m             \u001b[1;32mif\u001b[0m \u001b[0mclose\u001b[0m\u001b[1;33m:\u001b[0m\u001b[1;33m\u001b[0m\u001b[1;33m\u001b[0m\u001b[0m\n",
      "\u001b[1;32mE:\\anconda\\lib\\site-packages\\pydotplus\\graphviz.py\u001b[0m in \u001b[0;36mcreate\u001b[1;34m(self, prog, format)\u001b[0m\n\u001b[0;32m   1957\u001b[0m             \u001b[0mself\u001b[0m\u001b[1;33m.\u001b[0m\u001b[0mprogs\u001b[0m \u001b[1;33m=\u001b[0m \u001b[0mfind_graphviz\u001b[0m\u001b[1;33m(\u001b[0m\u001b[1;33m)\u001b[0m\u001b[1;33m\u001b[0m\u001b[1;33m\u001b[0m\u001b[0m\n\u001b[0;32m   1958\u001b[0m             \u001b[1;32mif\u001b[0m \u001b[0mself\u001b[0m\u001b[1;33m.\u001b[0m\u001b[0mprogs\u001b[0m \u001b[1;32mis\u001b[0m \u001b[1;32mNone\u001b[0m\u001b[1;33m:\u001b[0m\u001b[1;33m\u001b[0m\u001b[1;33m\u001b[0m\u001b[0m\n\u001b[1;32m-> 1959\u001b[1;33m                 raise InvocationException(\n\u001b[0m\u001b[0;32m   1960\u001b[0m                     'GraphViz\\'s executables not found')\n\u001b[0;32m   1961\u001b[0m \u001b[1;33m\u001b[0m\u001b[0m\n",
      "\u001b[1;31mInvocationException\u001b[0m: GraphViz's executables not found"
     ]
    }
   ],
   "source": [
    "# StringIO modules handles strings in buffer memory \n",
    "# this will help us to write into a file from buffer memory which is useful for us to\n",
    "# create the following image and saving it in our own device. \n",
    "from io import StringIO\n",
    "\n",
    "# This is used to display our image\n",
    "from IPython.display import Image\n",
    "\n",
    "# This will help us to manuplate how the works and write the way it works and choices it uses \n",
    "# into texts to create the following graph\n",
    "from sklearn.tree import export_graphviz\n",
    "\n",
    "# provides and interface for Graphiz's Dot language [visualization]\n",
    "import pydotplus\n",
    "\n",
    "# Object from StringIO() to save our text in buffer memory to save it in a file.\n",
    "dot_data = StringIO()\n",
    "\n",
    "# calling function export_graphviz() to create the following graph\n",
    "export_graphviz(dt_estimator, out_file=dot_data,\n",
    "                filled=True, rounded=False,\n",
    "                special_characters=True, feature_names = selected_feature_names,class_names=['0','1'])\n",
    "# out_file : write your text into it [dot_data]\n",
    "# rounded : handles border radius of each square\n",
    "# filled : related to the background color of the image\n",
    "# feature_names: related to the columns' names\n",
    "# special_characters: handles special characters if it can be shown or not\n",
    "# class_names: 0 or 1 [like if the person has diabetes or not]\n",
    "\n",
    "# dot_data.getvalue() used to get the content we wrote from buffer memory \n",
    "# pydotplus.graph_from_dot_data() visualization of our text that we got from memory\n",
    "graph = pydotplus.graph_from_dot_data(dot_data.getvalue())\n",
    "\n",
    "# write our graph to a PNG image\n",
    "graph.write_png('diabetes.png')\n",
    "\n",
    "# Show our image | display it\n",
    "Image(graph.create_png())"
   ]
  },
  {
   "cell_type": "markdown",
   "metadata": {
    "id": "2qi6vaSGu734"
   },
   "source": [
    "<h1 style = \"font-weight: bold; font-size: 35px;text-align: center; background-color: #0075ff; color: #fff; margin: 10px 0px 0px 0px; padding: 20px; box-shadow: 5px 5px 5px 3px #ddd;\"->This Project Done by: </h1>\n",
    "<div class=\"atef\" style=\"margin-top: 20px; display: flex; justify-content: center; align-items: center; margin-bottom: 20px;\">\n",
    "    <img src=\"images/atef.jpg\" alt=\"no-image\" style=\"width: 170px; height: 170px; border-radius: 15px; border: 1px solid white; padding: 4px; background-color: #0075ff;\"/>\n",
    "    <img src=\"images/hossam.jpeg\" alt=\"no-image\" style=\"width: 170px; height: 170px; border-radius: 15px; border: 1px solid white; padding: 4px; background-color: #0075ff;\"/>\n",
    "    <img src=\"images/hagar.jpeg\" alt=\"no-image\" style=\"width: 170px; height: 170px; border-radius: 15px; border: 1px solid white; padding: 4px; background-color: #ff0077;\"/>\n",
    "    <img src=\"images/alaa.jpeg\" alt=\"no-image\" style=\"width: 170px; height: 170px; border-radius: 15px; border: 1px solid white; padding: 4px; background-color: #ff0077;\"/>\n",
    "    <img src=\"images/nada.jpeg\" alt=\"no-image\" style=\"width: 170px; height: 170px; border-radius: 15px; border: 1px solid white; padding: 4px; background-color: #ff0077;\"/>\n",
    "    <img src=\"images/mariam.jpeg\" alt=\"no-image\" style=\"width: 170px; height: 170px; border-radius: 15px; border: 1px solid white; padding: 4px; background-color: #ff0077;\"/>\n",
    "</div>\n",
    "<div class=\"names\" style=\"display: flex !important; justify-content: space-around !important; align-items: center;\">\n",
    "    <p style=\"font-weight: bold; font-size: 14px; color: #333; margin: 0 4px 0px 0px; background-color: #ddd; text-align: center; padding: 4px; width: 190px;\">1. Atef Yasser Wassif</p>\n",
    "    <p style=\"font-weight: bold; font-size: 14px; color: #333; margin: 0 4px 0px 0px; background-color: #ddd; text-align: center; padding: 4px; width: 190px;\">2. Hosam Mohamed Ali</p>\n",
    "    <p style=\"font-weight: bold; font-size: 14px; color: #333; margin: 0 4px 0px 0px; background-color: #ddd; text-align: center; padding: 4px; width: 190px;\">3. Hagar Ashraf Mohamed</p>\n",
    "    <p style=\"font-weight: bold; font-size: 14px; color: #333; margin: 0 4px 0px 0px; background-color: #ddd; text-align: center; padding: 4px; width: 190px;\">4. Alaa Hussien Fathy</p>\n",
    "    <p style=\"font-weight: bold; font-size: 14px; color: #333; margin: 0 4px 0px 0px; background-color: #ddd; text-align: center; padding: 4px; width: 190px;\">5. Nada Nasser Badawy </p>\n",
    "    <p style=\"font-weight: bold; font-size: 14px; color: #333; margin: 0 4px 0px 0px; background-color: #ddd; text-align: center; padding: 4px; width: 190px;\">6. Mariam Mohamed Gabr</p>\n",
    "</div>"
   ]
  },
  {
   "cell_type": "markdown",
   "metadata": {},
   "source": [
    "<h1 style = \"font-weight: bold; text-align: center; margin-bottom: 30px;\"> Thanks To Dr. Tamer Medhat </h1> \n",
    "<div style = \"text-align: center;\">\n",
    "    <img src = \"images/tamer.jpeg\" alt = \"no-image\" style = \"box-shadow: 6px 6px 0px 6px rgb(37, 150, 190), -6px -6px 0px 6px red; border-radius: 5px; width: 300px; height: 300px;\"/>\n",
    "</div>"
   ]
  },
  {
   "cell_type": "code",
   "execution_count": null,
   "metadata": {},
   "outputs": [],
   "source": []
  }
 ],
 "metadata": {
  "colab": {
   "provenance": []
  },
  "kernelspec": {
   "display_name": "Python 3",
   "language": "python",
   "name": "python3"
  },
  "language_info": {
   "codemirror_mode": {
    "name": "ipython",
    "version": 3
   },
   "file_extension": ".py",
   "mimetype": "text/x-python",
   "name": "python",
   "nbconvert_exporter": "python",
   "pygments_lexer": "ipython3",
   "version": "3.8.5"
  }
 },
 "nbformat": 4,
 "nbformat_minor": 4
}
